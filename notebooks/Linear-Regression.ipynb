{
  "nbformat": 4,
  "nbformat_minor": 2,
  "metadata": {
    "anaconda-cloud": {},
    "kernelspec": {
      "name": "python3",
      "display_name": "Python 3.7.11 64-bit ('base': conda)"
    },
    "language_info": {
      "codemirror_mode": {
        "name": "ipython",
        "version": 3
      },
      "file_extension": ".py",
      "mimetype": "text/x-python",
      "name": "python",
      "nbconvert_exporter": "python",
      "pygments_lexer": "ipython3",
      "version": "3.7.11"
    },
    "colab": {
      "name": "05.06-Linear-Regression.ipynb",
      "provenance": [],
      "include_colab_link": true
    },
    "interpreter": {
      "hash": "d361e8bd3ab8be8f3ea65790adb41c2b64f49b1477d0d1af835155fecf213182"
    }
  },
  "cells": [
    {
      "cell_type": "markdown",
      "source": [
        "<a href=\"https://colab.research.google.com/github/kirenz/linear-regression/blob/master/notebooks/Linear-Regression.ipynb\" target=\"_parent\"><img src=\"https://colab.research.google.com/assets/colab-badge.svg\" alt=\"Open In Colab\"/></a>"
      ],
      "metadata": {
        "id": "view-in-github",
        "colab_type": "text"
      }
    },
    {
      "cell_type": "markdown",
      "source": [
        "<!--BOOK_INFORMATION-->\n",
        "<img align=\"left\" style=\"padding-right:10px;\" src=\"https://github.com/jakevdp/PythonDataScienceHandbook/blob/master/notebooks/figures/PDSH-cover-small.png?raw=1\">\n",
        "\n",
        "*This notebook contains an excerpt from the [Python Data Science Handbook](http://shop.oreilly.com/product/0636920034919.do) by Jake VanderPlas; the content is available [on GitHub](https://github.com/jakevdp/PythonDataScienceHandbook).*\n",
        "\n",
        "*The text is released under the [CC-BY-NC-ND license](https://creativecommons.org/licenses/by-nc-nd/3.0/us/legalcode), and code is released under the [MIT license](https://opensource.org/licenses/MIT). If you find this content useful, please consider supporting the work by [buying the book](http://shop.oreilly.com/product/0636920034919.do)!*"
      ],
      "metadata": {
        "deletable": true,
        "editable": true,
        "id": "W1ENOi7aPQNE"
      }
    },
    {
      "cell_type": "markdown",
      "source": [
        "# In Depth: Linear Regression"
      ],
      "metadata": {
        "id": "DsgMIPSwPQNL"
      }
    },
    {
      "cell_type": "markdown",
      "source": [
        "Just as naive Bayes (discussed earlier in [In Depth: Naive Bayes Classification](05.05-Naive-Bayes.ipynb)) is a good starting point for classification tasks, linear regression models are a good starting point for regression tasks.\n",
        "Such models are popular because they can be fit very quickly, and are very interpretable.\n",
        "You are probably familiar with the simplest form of a linear regression model (i.e., fitting a straight line to data) but such models can be extended to model more complicated data behavior.\n",
        "\n",
        "In this section we will start with a quick intuitive walk-through of the mathematics behind this well-known problem, before seeing how before moving on to see how linear models can be generalized to account for more complicated patterns in data.\n",
        "\n",
        "We begin with the standard imports:"
      ],
      "metadata": {
        "deletable": true,
        "editable": true,
        "id": "FJVPbzUMPQNL"
      }
    },
    {
      "cell_type": "code",
      "execution_count": 1,
      "source": [
        "%matplotlib inline\n",
        "import matplotlib.pyplot as plt\n",
        "import seaborn as sns; \n",
        "sns.set()\n",
        "import numpy as np"
      ],
      "outputs": [],
      "metadata": {
        "collapsed": true,
        "deletable": true,
        "editable": true,
        "id": "mA9r5JBjPQNM"
      }
    },
    {
      "cell_type": "markdown",
      "source": [
        "## Simple Linear Regression\n",
        "\n",
        "We will start with the most familiar linear regression, a straight-line fit to data.\n",
        "A straight-line fit is a model of the form\n",
        "$$\n",
        "y = ax + b\n",
        "$$\n",
        "where $a$ is commonly known as the *slope*, and $b$ is commonly known as the *intercept*.\n",
        "\n",
        "Consider the following data, which is scattered about a line with a slope of 2 and an intercept of -5:"
      ],
      "metadata": {
        "deletable": true,
        "editable": true,
        "id": "umPzed61PQNN"
      }
    },
    {
      "cell_type": "code",
      "execution_count": 2,
      "source": [
        "rng = np.random.RandomState(1)\n",
        "x = 10 * rng.rand(50)\n",
        "y = 2 * x - 5 + rng.randn(50)\n",
        "plt.scatter(x, y);"
      ],
      "outputs": [
        {
          "output_type": "display_data",
          "data": {
            "image/png": "[encoded data removed]",
            "text/plain": [
              "<Figure size 432x288 with 1 Axes>"
            ]
          },
          "metadata": {}
        }
      ],
      "metadata": {
        "deletable": true,
        "editable": true,
        "id": "WYMETmJ0PQNO",
        "outputId": "6930b2c1-c06b-463b-c8b7-ff3e5a1208d8"
      }
    },
    {
      "cell_type": "markdown",
      "source": [
        "We can use Scikit-Learn's ``LinearRegression`` estimator to fit this data and construct the best-fit line:"
      ],
      "metadata": {
        "deletable": true,
        "editable": true,
        "id": "G_2MsE2jPQNP"
      }
    },
    {
      "cell_type": "code",
      "execution_count": 3,
      "source": [
        "from sklearn.linear_model import LinearRegression\n",
        "model = LinearRegression(fit_intercept=True)\n",
        "\n",
        "model.fit(x[:, np.newaxis], y)\n",
        "\n",
        "xfit = np.linspace(0, 10, 1000)\n",
        "yfit = model.predict(xfit[:, np.newaxis])\n",
        "\n",
        "plt.scatter(x, y)\n",
        "plt.plot(xfit, yfit);"
      ],
      "outputs": [
        {
          "output_type": "display_data",
          "data": {
            "image/png": "[encoded data removed]",
            "text/plain": [
              "<Figure size 432x288 with 1 Axes>"
            ]
          },
          "metadata": {}
        }
      ],
      "metadata": {
        "deletable": true,
        "editable": true,
        "id": "q8d75nOFPQNQ",
        "outputId": "9b97dd52-73e2-452b-9095-07c1413732f5"
      }
    },
    {
      "cell_type": "markdown",
      "source": [
        "The slope and intercept of the data are contained in the model's fit parameters, which in Scikit-Learn are always marked by a trailing underscore.\n",
        "Here the relevant parameters are ``coef_`` and ``intercept_``:"
      ],
      "metadata": {
        "deletable": true,
        "editable": true,
        "id": "LWGlYAxlPQNR"
      }
    },
    {
      "cell_type": "code",
      "execution_count": 4,
      "source": [
        "print(\"Model slope:    \", model.coef_[0])\n",
        "print(\"Model intercept:\", model.intercept_)"
      ],
      "outputs": [
        {
          "output_type": "stream",
          "name": "stdout",
          "text": [
            "Model slope:     2.027208810360695\n",
            "Model intercept: -4.998577085553202\n"
          ]
        }
      ],
      "metadata": {
        "deletable": true,
        "editable": true,
        "id": "eDFur0OlPQNS",
        "outputId": "4c44aed7-2066-44f4-84ce-c25f0283d360"
      }
    },
    {
      "cell_type": "markdown",
      "source": [
        "We see that the results are very close to the inputs, as we might hope."
      ],
      "metadata": {
        "deletable": true,
        "editable": true,
        "id": "szVwrSHIPQNS"
      }
    },
    {
      "cell_type": "markdown",
      "source": [
        "The ``LinearRegression`` estimator is much more capable than this, however—in addition to simple straight-line fits, it can also handle multidimensional linear models of the form\n",
        "$$\n",
        "y = a_0 + a_1 x_1 + a_2 x_2 + \\cdots\n",
        "$$\n",
        "where there are multiple $x$ values.\n",
        "Geometrically, this is akin to fitting a plane to points in three dimensions, or fitting a hyper-plane to points in higher dimensions.\n",
        "\n",
        "The multidimensional nature of such regressions makes them more difficult to visualize, but we can see one of these fits in action by building some example data, using NumPy's matrix multiplication operator:"
      ],
      "metadata": {
        "deletable": true,
        "editable": true,
        "id": "gq-0GWMiPQNS"
      }
    },
    {
      "cell_type": "code",
      "execution_count": 5,
      "source": [
        "rng = np.random.RandomState(1)\n",
        "X = 10 * rng.rand(100, 3)\n",
        "y = 0.5 + np.dot(X, [1.5, -2., 1.])\n",
        "\n",
        "model.fit(X, y)\n",
        "print(model.intercept_)\n",
        "print(model.coef_)"
      ],
      "outputs": [
        {
          "output_type": "stream",
          "name": "stdout",
          "text": [
            "0.5000000000000127\n",
            "[ 1.5 -2.   1. ]\n"
          ]
        }
      ],
      "metadata": {
        "deletable": true,
        "editable": true,
        "id": "h50OXbu3PQNT",
        "outputId": "330459c1-4db2-460f-ddc9-2863d58e2f6d"
      }
    },
    {
      "cell_type": "markdown",
      "source": [
        "Here the $y$ data is constructed from three random $x$ values, and the linear regression recovers the coefficients used to construct the data.\n",
        "\n",
        "In this way, we can use the single ``LinearRegression`` estimator to fit lines, planes, or hyperplanes to our data.\n",
        "It still appears that this approach would be limited to strictly linear relationships between variables, but it turns out we can relax this as well."
      ],
      "metadata": {
        "deletable": true,
        "editable": true,
        "id": "hAcmlbV1PQNT"
      }
    },
    {
      "cell_type": "markdown",
      "source": [
        "## Basis Function Regression\n",
        "\n",
        "One trick you can use to adapt linear regression to nonlinear relationships between variables is to transform the data according to *basis functions*.\n",
        "We have seen one version of this before, in the ``PolynomialRegression`` pipeline used in [Hyperparameters and Model Validation](05.03-Hyperparameters-and-Model-Validation.ipynb) and [Feature Engineering](05.04-Feature-Engineering.ipynb).\n",
        "The idea is to take our multidimensional linear model:\n",
        "$$\n",
        "y = a_0 + a_1 x_1 + a_2 x_2 + a_3 x_3 + \\cdots\n",
        "$$\n",
        "and build the $x_1, x_2, x_3,$ and so on, from our single-dimensional input $x$.\n",
        "That is, we let $x_n = f_n(x)$, where $f_n()$ is some function that transforms our data.\n",
        "\n",
        "For example, if $f_n(x) = x^n$, our model becomes a polynomial regression:\n",
        "$$\n",
        "y = a_0 + a_1 x + a_2 x^2 + a_3 x^3 + \\cdots\n",
        "$$\n",
        "Notice that this is *still a linear model*—the linearity refers to the fact that the coefficients $a_n$ never multiply or divide each other.\n",
        "What we have effectively done is taken our one-dimensional $x$ values and projected them into a higher dimension, so that a linear fit can fit more complicated relationships between $x$ and $y$."
      ],
      "metadata": {
        "deletable": true,
        "editable": true,
        "id": "vOt2ziNUPQNU"
      }
    },
    {
      "cell_type": "markdown",
      "source": [
        "### Polynomial basis functions\n",
        "\n",
        "This polynomial projection is useful enough that it is built into Scikit-Learn, using the ``PolynomialFeatures`` transformer:"
      ],
      "metadata": {
        "deletable": true,
        "editable": true,
        "id": "lsB1JFDbPQNU"
      }
    },
    {
      "cell_type": "code",
      "execution_count": 6,
      "source": [
        "from sklearn.preprocessing import PolynomialFeatures\n",
        "x = np.array([2, 3, 4])\n",
        "poly = PolynomialFeatures(3, include_bias=False)\n",
        "poly.fit_transform(x[:, None])"
      ],
      "outputs": [
        {
          "output_type": "execute_result",
          "data": {
            "text/plain": [
              "array([[ 2.,  4.,  8.],\n",
              "       [ 3.,  9., 27.],\n",
              "       [ 4., 16., 64.]])"
            ]
          },
          "metadata": {},
          "execution_count": 6
        }
      ],
      "metadata": {
        "deletable": true,
        "editable": true,
        "id": "4fIJgw89PQNU",
        "outputId": "52a36e3b-dd52-464f-f880-0651509ee351"
      }
    },
    {
      "cell_type": "markdown",
      "source": [
        "We see here that the transformer has converted our one-dimensional array into a three-dimensional array by taking the exponent of each value.\n",
        "This new, higher-dimensional data representation can then be plugged into a linear regression.\n",
        "\n",
        "As we saw in [Feature Engineering](05.04-Feature-Engineering.ipynb), the cleanest way to accomplish this is to use a pipeline.\n",
        "Let's make a 7th-degree polynomial model in this way:"
      ],
      "metadata": {
        "deletable": true,
        "editable": true,
        "id": "Axsw8TNGPQNa"
      }
    },
    {
      "cell_type": "code",
      "execution_count": 7,
      "source": [
        "from sklearn.pipeline import make_pipeline\n",
        "poly_model = make_pipeline(PolynomialFeatures(7),\n",
        "                           LinearRegression())"
      ],
      "outputs": [],
      "metadata": {
        "collapsed": true,
        "deletable": true,
        "editable": true,
        "id": "TNPC344EPQNa"
      }
    },
    {
      "cell_type": "markdown",
      "source": [
        "With this transform in place, we can use the linear model to fit much more complicated relationships between $x$ and $y$. \n",
        "For example, here is a sine wave with noise:"
      ],
      "metadata": {
        "deletable": true,
        "editable": true,
        "id": "P3PUMVa3PQNa"
      }
    },
    {
      "cell_type": "code",
      "execution_count": 8,
      "source": [
        "rng = np.random.RandomState(1)\n",
        "x = 10 * rng.rand(50)\n",
        "y = np.sin(x) + 0.1 * rng.randn(50)\n",
        "\n",
        "poly_model.fit(x[:, np.newaxis], y)\n",
        "yfit = poly_model.predict(xfit[:, np.newaxis])\n",
        "\n",
        "plt.scatter(x, y)\n",
        "plt.plot(xfit, yfit);"
      ],
      "outputs": [
        {
          "output_type": "display_data",
          "data": {
            "image/png": "[encoded data removed]",
            "text/plain": [
              "<Figure size 432x288 with 1 Axes>"
            ]
          },
          "metadata": {}
        }
      ],
      "metadata": {
        "deletable": true,
        "editable": true,
        "id": "yLtqs7W_PQNa",
        "outputId": "7a7163a0-e85e-4efb-b8d3-63c3e37ed8b9"
      }
    },
    {
      "cell_type": "markdown",
      "source": [
        "Our linear model, through the use of 7th-order polynomial basis functions, can provide an excellent fit to this non-linear data!"
      ],
      "metadata": {
        "deletable": true,
        "editable": true,
        "id": "xLpaxGf4PQNb"
      }
    },
    {
      "cell_type": "markdown",
      "source": [
        "### Gaussian basis functions\n",
        "\n",
        "Of course, other basis functions are possible.\n",
        "For example, one useful pattern is to fit a model that is not a sum of polynomial bases, but a sum of Gaussian bases.\n",
        "The result might look something like the following figure:"
      ],
      "metadata": {
        "deletable": true,
        "editable": true,
        "id": "4AUdwXAcPQNb"
      }
    },
    {
      "cell_type": "markdown",
      "source": [
        "![](https://github.com/jakevdp/PythonDataScienceHandbook/blob/master/notebooks/figures/05.06-gaussian-basis.png?raw=1)\n",
        "[figure source in Appendix](#Gaussian-Basis)"
      ],
      "metadata": {
        "deletable": true,
        "editable": true,
        "id": "WZwol0TGPQNb"
      }
    },
    {
      "cell_type": "markdown",
      "source": [
        "The shaded regions in the plot are the scaled basis functions, and when added together they reproduce the smooth curve through the data.\n",
        "These Gaussian basis functions are not built into Scikit-Learn, but we can write a custom transformer that will create them, as shown here and illustrated in the following figure (Scikit-Learn transformers are implemented as Python classes; reading Scikit-Learn's source is a good way to see how they can be created):"
      ],
      "metadata": {
        "deletable": true,
        "editable": true,
        "id": "a-oIIZAiPQNb"
      }
    },
    {
      "cell_type": "code",
      "execution_count": 9,
      "source": [
        "from sklearn.base import BaseEstimator, TransformerMixin\n",
        "\n",
        "class GaussianFeatures(BaseEstimator, TransformerMixin):\n",
        "    \"\"\"Uniformly spaced Gaussian features for one-dimensional input\"\"\"\n",
        "    \n",
        "    def __init__(self, N, width_factor=2.0):\n",
        "        self.N = N\n",
        "        self.width_factor = width_factor\n",
        "    \n",
        "    @staticmethod\n",
        "    def _gauss_basis(x, y, width, axis=None):\n",
        "        arg = (x - y) / width\n",
        "        return np.exp(-0.5 * np.sum(arg ** 2, axis))\n",
        "        \n",
        "    def fit(self, X, y=None):\n",
        "        # create N centers spread along the data range\n",
        "        self.centers_ = np.linspace(X.min(), X.max(), self.N)\n",
        "        self.width_ = self.width_factor * (self.centers_[1] - self.centers_[0])\n",
        "        return self\n",
        "        \n",
        "    def transform(self, X):\n",
        "        return self._gauss_basis(X[:, :, np.newaxis], self.centers_,\n",
        "                                 self.width_, axis=1)\n",
        "    \n",
        "gauss_model = make_pipeline(GaussianFeatures(20),\n",
        "                            LinearRegression())\n",
        "gauss_model.fit(x[:, np.newaxis], y)\n",
        "yfit = gauss_model.predict(xfit[:, np.newaxis])\n",
        "\n",
        "plt.scatter(x, y)\n",
        "plt.plot(xfit, yfit)\n",
        "plt.xlim(0, 10);"
      ],
      "outputs": [
        {
          "output_type": "display_data",
          "data": {
            "image/png": "[encoded data removed]",
            "text/plain": [
              "<Figure size 432x288 with 1 Axes>"
            ]
          },
          "metadata": {}
        }
      ],
      "metadata": {
        "deletable": true,
        "editable": true,
        "id": "elurp4AzPQNc",
        "outputId": "526b601f-6424-46e7-b530-0db93ed87b9e"
      }
    },
    {
      "cell_type": "markdown",
      "source": [
        "We put this example here just to make clear that there is nothing magic about polynomial basis functions: if you have some sort of intuition into the generating process of your data that makes you think one basis or another might be appropriate, you can use them as well."
      ],
      "metadata": {
        "deletable": true,
        "editable": true,
        "id": "TP3O3ORlPQNc"
      }
    },
    {
      "cell_type": "markdown",
      "source": [
        "## Regularization\n",
        "\n",
        "The introduction of basis functions into our linear regression makes the model much more flexible, but it also can very quickly lead to over-fitting (refer back to [Hyperparameters and Model Validation](05.03-Hyperparameters-and-Model-Validation.ipynb) for a discussion of this).\n",
        "For example, if we choose too many Gaussian basis functions, we end up with results that don't look so good:"
      ],
      "metadata": {
        "deletable": true,
        "editable": true,
        "id": "yMAXUJdJPQNc"
      }
    },
    {
      "cell_type": "code",
      "execution_count": 10,
      "source": [
        "model = make_pipeline(GaussianFeatures(30),\n",
        "                      LinearRegression())\n",
        "model.fit(x[:, np.newaxis], y)\n",
        "\n",
        "plt.scatter(x, y)\n",
        "plt.plot(xfit, model.predict(xfit[:, np.newaxis]))\n",
        "\n",
        "plt.xlim(0, 10)\n",
        "plt.ylim(-1.5, 1.5);"
      ],
      "outputs": [
        {
          "output_type": "display_data",
          "data": {
            "image/png": "[encoded data removed]",
            "text/plain": [
              "<Figure size 432x288 with 1 Axes>"
            ]
          },
          "metadata": {}
        }
      ],
      "metadata": {
        "deletable": true,
        "editable": true,
        "id": "vDJVFT0jPQNc",
        "outputId": "7e40505e-808b-4d40-fb11-a629dca54638"
      }
    },
    {
      "cell_type": "markdown",
      "source": [
        "With the data projected to the 30-dimensional basis, the model has far too much flexibility and goes to extreme values between locations where it is constrained by data.\n",
        "We can see the reason for this if we plot the coefficients of the Gaussian bases with respect to their locations:"
      ],
      "metadata": {
        "deletable": true,
        "editable": true,
        "id": "a6YX8XzkPQNd"
      }
    },
    {
      "cell_type": "code",
      "execution_count": 11,
      "source": [
        "def basis_plot(model, title=None):\n",
        "    fig, ax = plt.subplots(2, sharex=True)\n",
        "    model.fit(x[:, np.newaxis], y)\n",
        "    ax[0].scatter(x, y)\n",
        "    ax[0].plot(xfit, model.predict(xfit[:, np.newaxis]))\n",
        "    ax[0].set(xlabel='x', ylabel='y', ylim=(-1.5, 1.5))\n",
        "    \n",
        "    if title:\n",
        "        ax[0].set_title(title)\n",
        "\n",
        "    ax[1].plot(model.steps[0][1].centers_,\n",
        "               model.steps[1][1].coef_)\n",
        "    ax[1].set(xlabel='basis location',\n",
        "              ylabel='coefficient',\n",
        "              xlim=(0, 10))\n",
        "    \n",
        "model = make_pipeline(GaussianFeatures(30), LinearRegression())\n",
        "basis_plot(model)"
      ],
      "outputs": [
        {
          "output_type": "display_data",
          "data": {
            "image/png": "[encoded data removed]",
            "text/plain": [
              "<Figure size 432x288 with 2 Axes>"
            ]
          },
          "metadata": {}
        }
      ],
      "metadata": {
        "deletable": true,
        "editable": true,
        "id": "oVkL6clZPQNd",
        "outputId": "74c7d118-7408-49bd-d3e8-e1464f0c37b0"
      }
    },
    {
      "cell_type": "markdown",
      "source": [
        "The lower panel of this figure shows the amplitude of the basis function at each location.\n",
        "This is typical over-fitting behavior when basis functions overlap: the coefficients of adjacent basis functions blow up and cancel each other out.\n",
        "We know that such behavior is problematic, and it would be nice if we could limit such spikes expliticly in the model by penalizing large values of the model parameters.\n",
        "Such a penalty is known as *regularization*, and comes in several forms."
      ],
      "metadata": {
        "deletable": true,
        "editable": true,
        "id": "g9yANOW5PQNd"
      }
    },
    {
      "cell_type": "markdown",
      "source": [
        "### Ridge regression ($L_2$ Regularization)\n",
        "\n",
        "Perhaps the most common form of regularization is known as *ridge regression* or $L_2$ *regularization*, sometimes also called *Tikhonov regularization*.\n",
        "This proceeds by penalizing the sum of squares (2-norms) of the model coefficients; in this case, the penalty on the model fit would be \n",
        "$$\n",
        "P = \\alpha\\sum_{n=1}^N \\theta_n^2\n",
        "$$\n",
        "where $\\alpha$ is a free parameter that controls the strength of the penalty.\n",
        "This type of penalized model is built into Scikit-Learn with the ``Ridge`` estimator:"
      ],
      "metadata": {
        "deletable": true,
        "editable": true,
        "id": "84oYCZ6oPQNd"
      }
    },
    {
      "cell_type": "code",
      "execution_count": 12,
      "source": [
        "from sklearn.linear_model import Ridge\n",
        "model = make_pipeline(GaussianFeatures(30), Ridge(alpha=0.1))\n",
        "basis_plot(model, title='Ridge Regression')"
      ],
      "outputs": [
        {
          "output_type": "display_data",
          "data": {
            "image/png": "[encoded data removed]",
            "text/plain": [
              "<Figure size 432x288 with 2 Axes>"
            ]
          },
          "metadata": {}
        }
      ],
      "metadata": {
        "deletable": true,
        "editable": true,
        "id": "PH6TaqqSPQNe",
        "outputId": "3efb4053-3190-49b0-abef-5c54c63acc38"
      }
    },
    {
      "cell_type": "markdown",
      "source": [
        "The $\\alpha$ parameter is essentially a knob controlling the complexity of the resulting model.\n",
        "In the limit $\\alpha \\to 0$, we recover the standard linear regression result; in the limit $\\alpha \\to \\infty$, all model responses will be suppressed.\n",
        "One advantage of ridge regression in particular is that it can be computed very efficiently—at hardly more computational cost than the original linear regression model."
      ],
      "metadata": {
        "deletable": true,
        "editable": true,
        "id": "klZ-MAW2PQNe"
      }
    },
    {
      "cell_type": "markdown",
      "source": [
        "### Lasso regression ($L_1$ regularization)\n",
        "\n",
        "Another very common type of regularization is known as lasso, and involves penalizing the sum of absolute values (1-norms) of regression coefficients:\n",
        "$$\n",
        "P = \\alpha\\sum_{n=1}^N |\\theta_n|\n",
        "$$\n",
        "Though this is conceptually very similar to ridge regression, the results can differ surprisingly: for example, due to geometric reasons lasso regression tends to favor *sparse models* where possible: that is, it preferentially sets model coefficients to exactly zero.\n",
        "\n",
        "We can see this behavior in duplicating the ridge regression figure, but using L1-normalized coefficients:"
      ],
      "metadata": {
        "deletable": true,
        "editable": true,
        "id": "0gKTsh9YPQNe"
      }
    },
    {
      "cell_type": "code",
      "execution_count": 13,
      "source": [
        "from sklearn.linear_model import Lasso\n",
        "model = make_pipeline(GaussianFeatures(30), Lasso(alpha=0.001))\n",
        "basis_plot(model, title='Lasso Regression')"
      ],
      "outputs": [
        {
          "output_type": "stream",
          "name": "stderr",
          "text": [
            "/Users/jankirenz/opt/anaconda3/lib/python3.7/site-packages/sklearn/linear_model/_coordinate_descent.py:532: ConvergenceWarning: Objective did not converge. You might want to increase the number of iterations. Duality gap: 0.002135815870488389, tolerance: 0.002065280097246271\n",
            "  positive)\n"
          ]
        },
        {
          "output_type": "display_data",
          "data": {
            "image/png": "[encoded data removed]",
            "text/plain": [
              "<Figure size 432x288 with 2 Axes>"
            ]
          },
          "metadata": {}
        }
      ],
      "metadata": {
        "deletable": true,
        "editable": true,
        "id": "_2xRTUbwPQNe",
        "outputId": "9de143a1-92fc-4e1f-c43c-effb2740e713"
      }
    },
    {
      "cell_type": "markdown",
      "source": [
        "With the lasso regression penalty, the majority of the coefficients are exactly zero, with the functional behavior being modeled by a small subset of the available basis functions.\n",
        "As with ridge regularization, the $\\alpha$ parameter tunes the strength of the penalty, and should be determined via, for example, cross-validation (refer back to [Hyperparameters and Model Validation](05.03-Hyperparameters-and-Model-Validation.ipynb) for a discussion of this)."
      ],
      "metadata": {
        "deletable": true,
        "editable": true,
        "id": "-sxYXl3PPQNf"
      }
    },
    {
      "cell_type": "markdown",
      "source": [
        "## Example: Predicting Bicycle Traffic"
      ],
      "metadata": {
        "deletable": true,
        "editable": true,
        "id": "uqcWraQGPQNf"
      }
    },
    {
      "cell_type": "markdown",
      "source": [
        "As an example, let's take a look at whether we can predict the number of bicycle trips across Seattle's Fremont Bridge based on weather, season, and other factors.\n",
        "We have seen this data already in [Working With Time Series](03.11-Working-with-Time-Series.ipynb).\n",
        "\n",
        "In this section, we will join the bike data with another dataset, and try to determine the extent to which weather and seasonal factors—temperature, precipitation, and daylight hours—affect the volume of bicycle traffic through this corridor.\n",
        "Fortunately, the NOAA makes available their daily [weather station data](http://www.ncdc.noaa.gov/cdo-web/search?datasetid=GHCND) (I used station ID USW00024233) and we can easily use Pandas to join the two data sources.\n",
        "We will perform a simple linear regression to relate weather and other information to bicycle counts, in order to estimate how a change in any one of these parameters affects the number of riders on a given day.\n",
        "\n",
        "In particular, this is an example of how the tools of Scikit-Learn can be used in a statistical modeling framework, in which the parameters of the model are assumed to have interpretable meaning.\n",
        "As discussed previously, this is not a standard approach within machine learning, but such interpretation is possible for some models.\n",
        "\n",
        "Let's start by loading the two datasets, indexing by date:"
      ],
      "metadata": {
        "collapsed": true,
        "deletable": true,
        "editable": true,
        "id": "1JssvayVPQNf"
      }
    },
    {
      "cell_type": "code",
      "execution_count": 15,
      "source": [
        "#!curl -o FremontBridge.csv https://data.seattle.gov/api/views/65db-xm6k/rows.csv?accessType=DOWNLOAD"
      ],
      "outputs": [
        {
          "output_type": "stream",
          "name": "stdout",
          "text": [
            "zsh:1: no matches found: https://data.seattle.gov/api/views/65db-xm6k/rows.csv?accessType=DOWNLOAD\n"
          ]
        }
      ],
      "metadata": {
        "collapsed": true,
        "deletable": true,
        "editable": true,
        "id": "yYAa6ksPPQNf"
      }
    },
    {
      "cell_type": "code",
      "execution_count": 19,
      "source": [
        "import pandas as pd\n",
        "counts = pd.read_csv('https://raw.githubusercontent.com/kirenz/linear-regression/master/notebooks/data/fremont-bridge.csv', index_col='Date', parse_dates=True)\n",
        "weather = pd.read_csv('https://raw.githubusercontent.com/kirenz/linear-regression/master/notebooks/data/BicycleWeather.csv', index_col='DATE', parse_dates=True)"
      ],
      "outputs": [],
      "metadata": {
        "deletable": true,
        "editable": true,
        "id": "mCTA6s5-PQNf"
      }
    },
    {
      "cell_type": "markdown",
      "source": [
        "Next we will compute the total daily bicycle traffic, and put this in its own dataframe:"
      ],
      "metadata": {
        "deletable": true,
        "editable": true,
        "id": "n0zjVRDmPQNf"
      }
    },
    {
      "cell_type": "code",
      "execution_count": 20,
      "source": [
        "daily = counts.resample('d').sum()\n",
        "daily['Total'] = daily.sum(axis=1)\n",
        "daily = daily[['Total']] # remove other columns"
      ],
      "outputs": [],
      "metadata": {
        "deletable": true,
        "editable": true,
        "id": "3QHQkYWdPQNf"
      }
    },
    {
      "cell_type": "markdown",
      "source": [
        "We saw previously that the patterns of use generally vary from day to day; let's account for this in our data by adding binary columns that indicate the day of the week:"
      ],
      "metadata": {
        "deletable": true,
        "editable": true,
        "id": "dBuz-rJiPQNg"
      }
    },
    {
      "cell_type": "code",
      "execution_count": 21,
      "source": [
        "days = ['Mon', 'Tue', 'Wed', 'Thu', 'Fri', 'Sat', 'Sun']\n",
        "for i in range(7):\n",
        "    daily[days[i]] = (daily.index.dayofweek == i).astype(float)"
      ],
      "outputs": [],
      "metadata": {
        "collapsed": true,
        "deletable": true,
        "editable": true,
        "id": "wHOmllS-PQNg"
      }
    },
    {
      "cell_type": "markdown",
      "source": [
        "Similarly, we might expect riders to behave differently on holidays; let's add an indicator of this as well:"
      ],
      "metadata": {
        "deletable": true,
        "editable": true,
        "id": "k7gv62wmPQNg"
      }
    },
    {
      "cell_type": "code",
      "execution_count": 22,
      "source": [
        "from pandas.tseries.holiday import USFederalHolidayCalendar\n",
        "cal = USFederalHolidayCalendar()\n",
        "holidays = cal.holidays('2012', '2016')\n",
        "daily = daily.join(pd.Series(1, index=holidays, name='holiday'))\n",
        "daily['holiday'].fillna(0, inplace=True)"
      ],
      "outputs": [],
      "metadata": {
        "deletable": true,
        "editable": true,
        "id": "f-623-osPQNg"
      }
    },
    {
      "cell_type": "markdown",
      "source": [
        "We also might suspect that the hours of daylight would affect how many people ride; let's use the standard astronomical calculation to add this information:"
      ],
      "metadata": {
        "deletable": true,
        "editable": true,
        "id": "U9JpcjbxPQNg"
      }
    },
    {
      "cell_type": "code",
      "execution_count": 23,
      "source": [
        "def hours_of_daylight(date, axis=23.44, latitude=47.61):\n",
        "    \"\"\"Compute the hours of daylight for the given date\"\"\"\n",
        "    days = (date - pd.datetime(2000, 12, 21)).days\n",
        "    m = (1. - np.tan(np.radians(latitude))\n",
        "         * np.tan(np.radians(axis) * np.cos(days * 2 * np.pi / 365.25)))\n",
        "    return 24. * np.degrees(np.arccos(1 - np.clip(m, 0, 2))) / 180.\n",
        "\n",
        "daily['daylight_hrs'] = list(map(hours_of_daylight, daily.index))\n",
        "daily[['daylight_hrs']].plot()\n",
        "plt.ylim(8, 17)"
      ],
      "outputs": [
        {
          "output_type": "execute_result",
          "data": {
            "text/plain": [
              "(8.0, 17.0)"
            ]
          },
          "metadata": {},
          "execution_count": 23
        },
        {
          "output_type": "display_data",
          "data": {
            "image/png": "[encoded data removed]",
            "text/plain": [
              "<Figure size 432x288 with 1 Axes>"
            ]
          },
          "metadata": {}
        }
      ],
      "metadata": {
        "deletable": true,
        "editable": true,
        "id": "y8_vQpTMPQNg",
        "outputId": "5245d638-86db-4943-a050-93fec0b2e180"
      }
    },
    {
      "cell_type": "markdown",
      "source": [
        "We can also add the average temperature and total precipitation to the data.\n",
        "In addition to the inches of precipitation, let's add a flag that indicates whether a day is dry (has zero precipitation):"
      ],
      "metadata": {
        "deletable": true,
        "editable": true,
        "id": "jmoL5OhpPQNh"
      }
    },
    {
      "cell_type": "code",
      "execution_count": 24,
      "source": [
        "# temperatures are in 1/10 deg C; convert to C\n",
        "weather['TMIN'] /= 10\n",
        "weather['TMAX'] /= 10\n",
        "weather['Temp (C)'] = 0.5 * (weather['TMIN'] + weather['TMAX'])\n",
        "\n",
        "# precip is in 1/10 mm; convert to inches\n",
        "weather['PRCP'] /= 254\n",
        "weather['dry day'] = (weather['PRCP'] == 0).astype(int)\n",
        "\n",
        "daily = daily.join(weather[['PRCP', 'Temp (C)', 'dry day']])"
      ],
      "outputs": [],
      "metadata": {
        "deletable": true,
        "editable": true,
        "id": "qJZAxffgPQNh"
      }
    },
    {
      "cell_type": "markdown",
      "source": [
        "Finally, let's add a counter that increases from day 1, and measures how many years have passed.\n",
        "This will let us measure any observed annual increase or decrease in daily crossings:"
      ],
      "metadata": {
        "deletable": true,
        "editable": true,
        "id": "ONG8Gg_3PQNh"
      }
    },
    {
      "cell_type": "code",
      "execution_count": 25,
      "source": [
        "daily['annual'] = (daily.index - daily.index[0]).days / 365."
      ],
      "outputs": [],
      "metadata": {
        "deletable": true,
        "editable": true,
        "id": "mai3uWe0PQNh"
      }
    },
    {
      "cell_type": "markdown",
      "source": [
        "Now our data is in order, and we can take a look at it:"
      ],
      "metadata": {
        "deletable": true,
        "editable": true,
        "id": "-WOiTG7NPQNh"
      }
    },
    {
      "cell_type": "code",
      "execution_count": 26,
      "source": [
        "daily.head()"
      ],
      "outputs": [
        {
          "output_type": "execute_result",
          "data": {
            "text/html": [
              "<div>\n",
              "<style scoped>\n",
              "    .dataframe tbody tr th:only-of-type {\n",
              "        vertical-align: middle;\n",
              "    }\n",
              "\n",
              "    .dataframe tbody tr th {\n",
              "        vertical-align: top;\n",
              "    }\n",
              "\n",
              "    .dataframe thead th {\n",
              "        text-align: right;\n",
              "    }\n",
              "</style>\n",
              "<table border=\"1\" class=\"dataframe\">\n",
              "  <thead>\n",
              "    <tr style=\"text-align: right;\">\n",
              "      <th></th>\n",
              "      <th>Total</th>\n",
              "      <th>Mon</th>\n",
              "      <th>Tue</th>\n",
              "      <th>Wed</th>\n",
              "      <th>Thu</th>\n",
              "      <th>Fri</th>\n",
              "      <th>Sat</th>\n",
              "      <th>Sun</th>\n",
              "      <th>holiday</th>\n",
              "      <th>daylight_hrs</th>\n",
              "      <th>PRCP</th>\n",
              "      <th>Temp (C)</th>\n",
              "      <th>dry day</th>\n",
              "      <th>annual</th>\n",
              "    </tr>\n",
              "    <tr>\n",
              "      <th>Date</th>\n",
              "      <th></th>\n",
              "      <th></th>\n",
              "      <th></th>\n",
              "      <th></th>\n",
              "      <th></th>\n",
              "      <th></th>\n",
              "      <th></th>\n",
              "      <th></th>\n",
              "      <th></th>\n",
              "      <th></th>\n",
              "      <th></th>\n",
              "      <th></th>\n",
              "      <th></th>\n",
              "      <th></th>\n",
              "    </tr>\n",
              "  </thead>\n",
              "  <tbody>\n",
              "    <tr>\n",
              "      <th>2012-10-03</th>\n",
              "      <td>3521.0</td>\n",
              "      <td>0.0</td>\n",
              "      <td>0.0</td>\n",
              "      <td>1.0</td>\n",
              "      <td>0.0</td>\n",
              "      <td>0.0</td>\n",
              "      <td>0.0</td>\n",
              "      <td>0.0</td>\n",
              "      <td>0.0</td>\n",
              "      <td>11.277359</td>\n",
              "      <td>0.0</td>\n",
              "      <td>13.35</td>\n",
              "      <td>1.0</td>\n",
              "      <td>0.000000</td>\n",
              "    </tr>\n",
              "    <tr>\n",
              "      <th>2012-10-04</th>\n",
              "      <td>3475.0</td>\n",
              "      <td>0.0</td>\n",
              "      <td>0.0</td>\n",
              "      <td>0.0</td>\n",
              "      <td>1.0</td>\n",
              "      <td>0.0</td>\n",
              "      <td>0.0</td>\n",
              "      <td>0.0</td>\n",
              "      <td>0.0</td>\n",
              "      <td>11.219142</td>\n",
              "      <td>0.0</td>\n",
              "      <td>13.60</td>\n",
              "      <td>1.0</td>\n",
              "      <td>0.002740</td>\n",
              "    </tr>\n",
              "    <tr>\n",
              "      <th>2012-10-05</th>\n",
              "      <td>3148.0</td>\n",
              "      <td>0.0</td>\n",
              "      <td>0.0</td>\n",
              "      <td>0.0</td>\n",
              "      <td>0.0</td>\n",
              "      <td>1.0</td>\n",
              "      <td>0.0</td>\n",
              "      <td>0.0</td>\n",
              "      <td>0.0</td>\n",
              "      <td>11.161038</td>\n",
              "      <td>0.0</td>\n",
              "      <td>15.30</td>\n",
              "      <td>1.0</td>\n",
              "      <td>0.005479</td>\n",
              "    </tr>\n",
              "    <tr>\n",
              "      <th>2012-10-06</th>\n",
              "      <td>2006.0</td>\n",
              "      <td>0.0</td>\n",
              "      <td>0.0</td>\n",
              "      <td>0.0</td>\n",
              "      <td>0.0</td>\n",
              "      <td>0.0</td>\n",
              "      <td>1.0</td>\n",
              "      <td>0.0</td>\n",
              "      <td>0.0</td>\n",
              "      <td>11.103056</td>\n",
              "      <td>0.0</td>\n",
              "      <td>15.85</td>\n",
              "      <td>1.0</td>\n",
              "      <td>0.008219</td>\n",
              "    </tr>\n",
              "    <tr>\n",
              "      <th>2012-10-07</th>\n",
              "      <td>2142.0</td>\n",
              "      <td>0.0</td>\n",
              "      <td>0.0</td>\n",
              "      <td>0.0</td>\n",
              "      <td>0.0</td>\n",
              "      <td>0.0</td>\n",
              "      <td>0.0</td>\n",
              "      <td>1.0</td>\n",
              "      <td>0.0</td>\n",
              "      <td>11.045208</td>\n",
              "      <td>0.0</td>\n",
              "      <td>15.85</td>\n",
              "      <td>1.0</td>\n",
              "      <td>0.010959</td>\n",
              "    </tr>\n",
              "  </tbody>\n",
              "</table>\n",
              "</div>"
            ],
            "text/plain": [
              "             Total  Mon  Tue  Wed  Thu  Fri  Sat  Sun  holiday  daylight_hrs  \\\n",
              "Date                                                                           \n",
              "2012-10-03  3521.0  0.0  0.0  1.0  0.0  0.0  0.0  0.0      0.0     11.277359   \n",
              "2012-10-04  3475.0  0.0  0.0  0.0  1.0  0.0  0.0  0.0      0.0     11.219142   \n",
              "2012-10-05  3148.0  0.0  0.0  0.0  0.0  1.0  0.0  0.0      0.0     11.161038   \n",
              "2012-10-06  2006.0  0.0  0.0  0.0  0.0  0.0  1.0  0.0      0.0     11.103056   \n",
              "2012-10-07  2142.0  0.0  0.0  0.0  0.0  0.0  0.0  1.0      0.0     11.045208   \n",
              "\n",
              "            PRCP  Temp (C)  dry day    annual  \n",
              "Date                                           \n",
              "2012-10-03   0.0     13.35      1.0  0.000000  \n",
              "2012-10-04   0.0     13.60      1.0  0.002740  \n",
              "2012-10-05   0.0     15.30      1.0  0.005479  \n",
              "2012-10-06   0.0     15.85      1.0  0.008219  \n",
              "2012-10-07   0.0     15.85      1.0  0.010959  "
            ]
          },
          "metadata": {},
          "execution_count": 26
        }
      ],
      "metadata": {
        "deletable": true,
        "editable": true,
        "id": "0ntC1oS3PQNh",
        "outputId": "0d3183ba-7371-44d6-a2cc-a16ee8197d44"
      }
    },
    {
      "cell_type": "markdown",
      "source": [
        "With this in place, we can choose the columns to use, and fit a linear regression model to our data.\n",
        "We will set ``fit_intercept = False``, because the daily flags essentially operate as their own day-specific intercepts:"
      ],
      "metadata": {
        "deletable": true,
        "editable": true,
        "id": "sQ56gFZ6PQNi"
      }
    },
    {
      "cell_type": "code",
      "execution_count": 27,
      "source": [
        "# Drop any rows with null values\n",
        "daily.dropna(axis=0, how='any', inplace=True)\n",
        "\n",
        "column_names = ['Mon', 'Tue', 'Wed', 'Thu', 'Fri', 'Sat', 'Sun', 'holiday',\n",
        "                'daylight_hrs', 'PRCP', 'dry day', 'Temp (C)', 'annual']\n",
        "X = daily[column_names]\n",
        "y = daily['Total']\n",
        "\n",
        "model = LinearRegression(fit_intercept=False)\n",
        "model.fit(X, y)\n",
        "daily['predicted'] = model.predict(X)"
      ],
      "outputs": [],
      "metadata": {
        "deletable": true,
        "editable": true,
        "id": "wwnyWTEEPQNi"
      }
    },
    {
      "cell_type": "markdown",
      "source": [
        "Finally, we can compare the total and predicted bicycle traffic visually:"
      ],
      "metadata": {
        "deletable": true,
        "editable": true,
        "id": "rKNreX4CPQNi"
      }
    },
    {
      "cell_type": "code",
      "execution_count": 28,
      "source": [
        "daily[['Total', 'predicted']].plot(alpha=0.5);"
      ],
      "outputs": [
        {
          "output_type": "display_data",
          "data": {
            "image/png": "[encoded data removed]",
            "text/plain": [
              "<Figure size 432x288 with 1 Axes>"
            ]
          },
          "metadata": {}
        }
      ],
      "metadata": {
        "deletable": true,
        "editable": true,
        "id": "uaRG8oh9PQNi",
        "outputId": "a3395781-7305-4041-dd95-2e53746cb7a5"
      }
    },
    {
      "cell_type": "markdown",
      "source": [
        "It is evident that we have missed some key features, especially during the summer time.\n",
        "Either our features are not complete (i.e., people decide whether to ride to work based on more than just these) or there are some nonlinear relationships that we have failed to take into account (e.g., perhaps people ride less at both high and low temperatures).\n",
        "Nevertheless, our rough approximation is enough to give us some insights, and we can take a look at the coefficients of the linear model to estimate how much each feature contributes to the daily bicycle count:"
      ],
      "metadata": {
        "deletable": true,
        "editable": true,
        "id": "g2zoyEzwPQNi"
      }
    },
    {
      "cell_type": "code",
      "execution_count": 29,
      "source": [
        "params = pd.Series(model.coef_, index=X.columns)\n",
        "params"
      ],
      "outputs": [
        {
          "output_type": "execute_result",
          "data": {
            "text/plain": [
              "Mon              504.882756\n",
              "Tue              610.233936\n",
              "Wed              592.673642\n",
              "Thu              482.358115\n",
              "Fri              177.980345\n",
              "Sat            -1103.301710\n",
              "Sun            -1133.567246\n",
              "holiday        -1187.401381\n",
              "daylight_hrs     128.851511\n",
              "PRCP            -664.834882\n",
              "dry day          547.698592\n",
              "Temp (C)          65.162791\n",
              "annual            26.942713\n",
              "dtype: float64"
            ]
          },
          "metadata": {},
          "execution_count": 29
        }
      ],
      "metadata": {
        "deletable": true,
        "editable": true,
        "id": "zeuXhLqaPQNi",
        "outputId": "95c65ba5-b213-4e60-8c46-0e8f1745a17b"
      }
    },
    {
      "cell_type": "markdown",
      "source": [
        "These numbers are difficult to interpret without some measure of their uncertainty.\n",
        "We can compute these uncertainties quickly using bootstrap resamplings of the data:"
      ],
      "metadata": {
        "deletable": true,
        "editable": true,
        "id": "WzgULL8JPQNi"
      }
    },
    {
      "cell_type": "code",
      "execution_count": 30,
      "source": [
        "from sklearn.utils import resample\n",
        "np.random.seed(1)\n",
        "err = np.std([model.fit(*resample(X, y)).coef_\n",
        "              for i in range(1000)], 0)"
      ],
      "outputs": [],
      "metadata": {
        "deletable": true,
        "editable": true,
        "id": "khouM4E2PQNi"
      }
    },
    {
      "cell_type": "markdown",
      "source": [
        "With these errors estimated, let's again look at the results:"
      ],
      "metadata": {
        "deletable": true,
        "editable": true,
        "id": "teQfZG4wPQNj"
      }
    },
    {
      "cell_type": "code",
      "execution_count": 31,
      "source": [
        "print(pd.DataFrame({'effect': params.round(0),\n",
        "                    'error': err.round(0)}))"
      ],
      "outputs": [
        {
          "output_type": "stream",
          "name": "stdout",
          "text": [
            "              effect  error\n",
            "Mon            505.0   86.0\n",
            "Tue            610.0   83.0\n",
            "Wed            593.0   83.0\n",
            "Thu            482.0   85.0\n",
            "Fri            178.0   81.0\n",
            "Sat          -1103.0   80.0\n",
            "Sun          -1134.0   83.0\n",
            "holiday      -1187.0  163.0\n",
            "daylight_hrs   129.0    9.0\n",
            "PRCP          -665.0   62.0\n",
            "dry day        548.0   33.0\n",
            "Temp (C)        65.0    4.0\n",
            "annual          27.0   18.0\n"
          ]
        }
      ],
      "metadata": {
        "deletable": true,
        "editable": true,
        "id": "ak4qAui0PQNj",
        "outputId": "28ef327d-e361-45aa-eb2e-002669d450ea"
      }
    },
    {
      "cell_type": "markdown",
      "source": [
        "We first see that there is a relatively stable trend in the weekly baseline: there are many more riders on weekdays than on weekends and holidays.\n",
        "We see that for each additional hour of daylight, 129 ± 9 more people choose to ride; a temperature increase of one degree Celsius encourages 65 ± 4 people to grab their bicycle; a dry day means an average of 548 ± 33 more riders, and each inch of precipitation means 665 ± 62 more people leave their bike at home.\n",
        "Once all these effects are accounted for, we see a modest increase of 27 ± 18 new daily riders each year.\n",
        "\n",
        "Our model is almost certainly missing some relevant information. For example, nonlinear effects (such as effects of precipitation *and* cold temperature) and nonlinear trends within each variable (such as disinclination to ride at very cold and very hot temperatures) cannot be accounted for in this model.\n",
        "Additionally, we have thrown away some of the finer-grained information (such as the difference between a rainy morning and a rainy afternoon), and we have ignored correlations between days (such as the possible effect of a rainy Tuesday on Wednesday's numbers, or the effect of an unexpected sunny day after a streak of rainy days).\n",
        "These are all potentially interesting effects, and you now have the tools to begin exploring them if you wish!"
      ],
      "metadata": {
        "deletable": true,
        "editable": true,
        "id": "kYqW4NyHPQNj"
      }
    },
    {
      "cell_type": "markdown",
      "source": [
        "<!--NAVIGATION-->\n",
        "< [In Depth: Naive Bayes Classification](05.05-Naive-Bayes.ipynb) | [Contents](Index.ipynb) | [In-Depth: Support Vector Machines](05.07-Support-Vector-Machines.ipynb) >\n",
        "\n",
        "<a href=\"https://colab.research.google.com/github/jakevdp/PythonDataScienceHandbook/blob/master/notebooks/05.06-Linear-Regression.ipynb\"><img align=\"left\" src=\"https://colab.research.google.com/assets/colab-badge.svg\" alt=\"Open in Colab\" title=\"Open and Execute in Google Colaboratory\"></a>\n"
      ],
      "metadata": {
        "deletable": true,
        "editable": true,
        "id": "zp9nDI6kPQNj"
      }
    }
  ]
}